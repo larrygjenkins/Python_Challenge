{
 "cells": [
  {
   "cell_type": "code",
   "execution_count": 176,
   "id": "715666f4",
   "metadata": {},
   "outputs": [],
   "source": [
    "import os\n",
    "import csv\n",
    "\n",
    "csvpath = os.path.join('Resources', 'budget_data.csv')\n",
    "\n",
    "# Creating empty arrays for each month and the value of each month  in csv file, as well as the change from month to month\n",
    "months = []\n",
    "values = []\n",
    "monthly_change = []\n",
    "\n",
    "# print(csvpath)"
   ]
  },
  {
   "cell_type": "code",
   "execution_count": 177,
   "id": "6b62de67",
   "metadata": {},
   "outputs": [],
   "source": [
    "with open(csvpath) as csvfile:\n",
    "    csvreader = csv.reader(csvfile, delimiter=',')\n",
    "#     print(csvreader)\n",
    "\n",
    "    csv_header = next(csvreader)\n",
    "#     print(f\"CSV Header: {csv_header}\")\n",
    "\n",
    "#   Cycles through each row in the csv file (after the header) and adds months and value to the appropriate array\n",
    "    for row in csvreader:\n",
    "        months.append(row[0])\n",
    "        values.append(row[1])\n",
    "\n",
    "# Converts the strings in the value array into integers\n",
    "for i in range(0, len(values)):\n",
    "    values[i] = int(values[i])\n",
    "#     monthly_change.append(values[i+1]-values[i])\n",
    "\n",
    "# Creates a varable for total months, which is equal to the length of the months array\n",
    "total_months = len(months)\n",
    "# print(f'Total Months: {total_months}')\n",
    "\n",
    "# Creates a variable for total value, which sums all values in the value array\n",
    "total_value = sum(values)\n",
    "# print(f'Total Value: ${total_value}')\n",
    "\n",
    "# Loops through each integer in the values array and finds the change from one integer to the next in the array, \n",
    "# then adds teh change to a new array called \"monthly_change\"\n",
    "for i in range(1, len(values)):\n",
    "    monthly_change.append(values[i]-values[i-1])\n",
    "# print(f'Values: {values}')\n",
    "# print(f'Monthly Change: {monthly_change}')\n",
    "\n",
    "average_change = round(sum(monthly_change)/len(monthly_change), 2)\n",
    "# average_change = sum(monthly_change)\n",
    "# print(f'Average Monthly Change: ${average_change}')\n"
   ]
  },
  {
   "cell_type": "code",
   "execution_count": 178,
   "id": "b6deda7d",
   "metadata": {},
   "outputs": [],
   "source": [
    "# Established variables for the greatest positive change and greatest negative change in the monthly_change array\n",
    "max_change = max(monthly_change)\n",
    "min_change = min(monthly_change)"
   ]
  },
  {
   "cell_type": "code",
   "execution_count": 179,
   "id": "e541f653",
   "metadata": {},
   "outputs": [],
   "source": [
    "# Established variables that will correspond to the months and values of the greatest positive and negative changes\n",
    "max_change_value_index = 0\n",
    "max_change_month_index = 0\n",
    "min_change_value_index = 0\n",
    "min_change_month_index = 0\n",
    "\n",
    "# Loops through the values in the monthly_change array and finds index of highest and lowest values\n",
    "for i in range(0, len(monthly_change)):\n",
    "    if monthly_change[i] == max_change:\n",
    "        max_change_value_index = i\n",
    "        max_change_month_index = i+1\n",
    "    if monthly_change[i] == min_change:\n",
    "        min_change_value_index = i\n",
    "        min_change_month_index = i+1"
   ]
  },
  {
   "cell_type": "code",
   "execution_count": 182,
   "id": "79a1b0e9",
   "metadata": {},
   "outputs": [
    {
     "name": "stdout",
     "output_type": "stream",
     "text": [
      "Financial Analysis\n",
      "-------------------------------------\n",
      "Total Months: 86\n",
      "Total Value: $38382578\n",
      "Average Monthly Change: $-2315.12\n",
      "Greatest Increase in Profits: Feb-2012 ($1926159)\n",
      "Greatest Decrease in Profits: Sep-2013 ($-2196167)\n"
     ]
    }
   ],
   "source": [
    "print(f'Financial Analysis')\n",
    "print(f'-------------------------------------')\n",
    "print(f'Total Months: {total_months}')\n",
    "print(f'Total Value: ${total_value}')\n",
    "print(f'Average Monthly Change: ${average_change}')\n",
    "print(f'Greatest Increase in Profits: {months[max_change_month_index]} (${monthly_change[max_change_value_index]})')\n",
    "print(f'Greatest Decrease in Profits: {months[min_change_month_index]} (${monthly_change[min_change_value_index]})')"
   ]
  },
  {
   "cell_type": "code",
   "execution_count": null,
   "id": "803ce68b",
   "metadata": {},
   "outputs": [],
   "source": []
  }
 ],
 "metadata": {
  "kernelspec": {
   "display_name": "Python 3",
   "language": "python",
   "name": "python3"
  },
  "language_info": {
   "codemirror_mode": {
    "name": "ipython",
    "version": 3
   },
   "file_extension": ".py",
   "mimetype": "text/x-python",
   "name": "python",
   "nbconvert_exporter": "python",
   "pygments_lexer": "ipython3",
   "version": "3.8.8"
  }
 },
 "nbformat": 4,
 "nbformat_minor": 5
}
