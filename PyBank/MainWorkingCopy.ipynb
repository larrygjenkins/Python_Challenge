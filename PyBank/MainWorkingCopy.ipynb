{
 "cells": [
  {
   "cell_type": "code",
   "execution_count": 153,
   "id": "5736388a",
   "metadata": {},
   "outputs": [],
   "source": [
    "import os\n",
    "import csv\n",
    "\n",
    "csvpath = os.path.join('Resources', 'budget_data.csv')\n",
    "\n",
    "# Creating empty arrays for each month and the value of each month  in csv file, as well as the change from month to month\n",
    "months = []\n",
    "values = []\n",
    "monthly_change = []\n",
    "\n",
    "# print(csvpath)"
   ]
  },
  {
   "cell_type": "code",
   "execution_count": 154,
   "id": "dae12ebc",
   "metadata": {},
   "outputs": [
    {
     "name": "stdout",
     "output_type": "stream",
     "text": [
      "Total Months: 86\n",
      "Total Value: $38382578\n",
      "Average Monthly Change: $-2315.12\n"
     ]
    }
   ],
   "source": [
    "with open(csvpath) as csvfile:\n",
    "    csvreader = csv.reader(csvfile, delimiter=',')\n",
    "#     print(csvreader)\n",
    "\n",
    "    csv_header = next(csvreader)\n",
    "#     print(f\"CSV Header: {csv_header}\")\n",
    "\n",
    "#   Cycles through each row in the csv file (after the header) and adds months and value to the appropriate array\n",
    "    for row in csvreader:\n",
    "        months.append(row[0])\n",
    "        values.append(row[1])\n",
    "\n",
    "# Converts the strings in the value array into integers\n",
    "for i in range(0, len(values)):\n",
    "    values[i] = int(values[i])\n",
    "#     monthly_change.append(values[i+1]-values[i])\n",
    "\n",
    "# Creates a varable for total months, which is equal to the length of the months array\n",
    "total_months = len(months)\n",
    "print(f'Total Months: {total_months}')\n",
    "\n",
    "# Creates a variable for total value, which sums all values in the value array\n",
    "total_value = sum(values)\n",
    "print(f'Total Value: ${total_value}')\n",
    "\n",
    "# Loops through each integer in the values array and finds the change from one integer to the next in the array, \n",
    "# then adds teh change to a new array called \"monthly_change\"\n",
    "for i in range(1, len(values)):\n",
    "    monthly_change.append(values[i]-values[i-1])\n",
    "# print(f'Values: {values}')\n",
    "# print(f'Monthly Change: {monthly_change}')\n",
    "\n",
    "average_change = round(sum(monthly_change)/len(monthly_change), 2)\n",
    "# average_change = sum(monthly_change)\n",
    "print(f'Average Monthly Change: ${average_change}')\n"
   ]
  },
  {
   "cell_type": "code",
   "execution_count": 155,
   "id": "5031b625",
   "metadata": {},
   "outputs": [
    {
     "name": "stdout",
     "output_type": "stream",
     "text": [
      "-2196167\n"
     ]
    }
   ],
   "source": [
    "max_change = max(monthly_change)\n",
    "min_change = min(monthly_change)\n",
    "# print(max(monthly_change))\n",
    "print(min(monthly_change))\n",
    "# print(monthly_change)"
   ]
  },
  {
   "cell_type": "code",
   "execution_count": 156,
   "id": "9cf291d8",
   "metadata": {},
   "outputs": [
    {
     "name": "stdout",
     "output_type": "stream",
     "text": [
      "index of max change: 24\n",
      "Max Change month index: 25\n",
      "index of min change: 43\n",
      "Min Change month index: 44\n"
     ]
    }
   ],
   "source": [
    "max_change_month_index = 0\n",
    "min_change_month_index = 0\n",
    "\n",
    "for i in range(0, len(monthly_change)):\n",
    "    if monthly_change[i] == max_change:\n",
    "        print(f'index of max change: {i}')\n",
    "        max_change_month_index = i+1\n",
    "        print(f'Max Change month index: {max_change_month_index}')\n",
    "    if monthly_change[i] == min_change:\n",
    "        print(f'index of min change: {i}')\n",
    "        min_change_month_index = i+1\n",
    "        print(f'Min Change month index: {min_change_month_index}')"
   ]
  },
  {
   "cell_type": "code",
   "execution_count": null,
   "id": "e901378c",
   "metadata": {},
   "outputs": [],
   "source": []
  }
 ],
 "metadata": {
  "kernelspec": {
   "display_name": "Python 3",
   "language": "python",
   "name": "python3"
  },
  "language_info": {
   "codemirror_mode": {
    "name": "ipython",
    "version": 3
   },
   "file_extension": ".py",
   "mimetype": "text/x-python",
   "name": "python",
   "nbconvert_exporter": "python",
   "pygments_lexer": "ipython3",
   "version": "3.8.8"
  }
 },
 "nbformat": 4,
 "nbformat_minor": 5
}
