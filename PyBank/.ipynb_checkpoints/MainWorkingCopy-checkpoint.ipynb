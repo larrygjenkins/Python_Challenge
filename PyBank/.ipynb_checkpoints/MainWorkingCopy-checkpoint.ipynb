{
 "cells": [
  {
   "cell_type": "code",
   "execution_count": 87,
   "id": "458f789d",
   "metadata": {},
   "outputs": [
    {
     "name": "stdout",
     "output_type": "stream",
     "text": [
      "Resources\\budget_data.csv\n"
     ]
    }
   ],
   "source": [
    "import os\n",
    "import csv\n",
    "\n",
    "csvpath = os.path.join('Resources', 'budget_data.csv')\n",
    "\n",
    "# Creating empty arrays for each month and value in csv file\n",
    "months = []\n",
    "values = []\n",
    "\n",
    "print(csvpath)"
   ]
  },
  {
   "cell_type": "code",
   "execution_count": 88,
   "id": "1f3841cb",
   "metadata": {},
   "outputs": [
    {
     "name": "stdout",
     "output_type": "stream",
     "text": [
      "Total Months: 86\n",
      "Total Value: 38382578\n"
     ]
    }
   ],
   "source": [
    "with open(csvpath) as csvfile:\n",
    "    csvreader = csv.reader(csvfile, delimiter=',')\n",
    "#     print(csvreader)\n",
    "\n",
    "    csv_header = next(csvreader)\n",
    "#     print(f\"CSV Header: {csv_header}\")\n",
    "\n",
    "#   Cycles through each row in the csv file (after the header) and adds months and value to the appropriate array\n",
    "    for row in csvreader:\n",
    "        months.append(row[0])\n",
    "        values.append(row[1])\n",
    "\n",
    "# Converts the strings in the value array into integers\n",
    "for i in range(0, len(values)):\n",
    "    values[i] = int(values[i])\n",
    "\n",
    "# Creates a varable for total months, which is equal to the length of the months array\n",
    "total_months = len(months)\n",
    "print(f'Total Months: {total_months}')\n",
    "\n",
    "# Creates a variable for total value, which sums all values in the value array\n",
    "total_value = sum(values)\n",
    "print(f'Total Value: {total_value}')\n",
    "\n"
   ]
  },
  {
   "cell_type": "code",
   "execution_count": null,
   "id": "6fa97f5d",
   "metadata": {},
   "outputs": [],
   "source": []
  },
  {
   "cell_type": "code",
   "execution_count": null,
   "id": "653dac2c",
   "metadata": {},
   "outputs": [],
   "source": []
  },
  {
   "cell_type": "code",
   "execution_count": null,
   "id": "06a0a97f",
   "metadata": {},
   "outputs": [],
   "source": []
  }
 ],
 "metadata": {
  "kernelspec": {
   "display_name": "Python 3",
   "language": "python",
   "name": "python3"
  },
  "language_info": {
   "codemirror_mode": {
    "name": "ipython",
    "version": 3
   },
   "file_extension": ".py",
   "mimetype": "text/x-python",
   "name": "python",
   "nbconvert_exporter": "python",
   "pygments_lexer": "ipython3",
   "version": "3.8.8"
  }
 },
 "nbformat": 4,
 "nbformat_minor": 5
}
