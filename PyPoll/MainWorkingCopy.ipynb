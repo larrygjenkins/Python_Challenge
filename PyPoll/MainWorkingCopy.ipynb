{
 "cells": [
  {
   "cell_type": "code",
   "execution_count": 20,
   "id": "b684ee27",
   "metadata": {},
   "outputs": [],
   "source": [
    "import os\n",
    "import csv\n",
    "\n",
    "csvpath = os.path.join('..', 'PyPoll', 'Resources', 'election_data.csv')\n",
    "# print(csvpath)\n",
    "\n",
    "# Creating empty arrays for each voter id, county, and candidate\n",
    "voter_id = []\n",
    "counties = []\n",
    "candidates = []"
   ]
  },
  {
   "cell_type": "code",
   "execution_count": 23,
   "id": "ca624f62",
   "metadata": {},
   "outputs": [
    {
     "name": "stdout",
     "output_type": "stream",
     "text": [
      "<_csv.reader object at 0x000001E4502A23A0>\n",
      "['Voter ID', 'County', 'Candidate']\n",
      "['12864552', '17444633', '19330107', '19865775', '11927875', '19014606', '17775191', '14003692', '14255761', '13870173']\n"
     ]
    }
   ],
   "source": [
    "with open(csvpath) as csvfile:\n",
    "    csvreader = csv.reader(csvfile, delimiter=',')\n",
    "    print(csvreader)\n",
    "\n",
    "    csv_header = next(csvreader)\n",
    "    print(csv_header)\n",
    "\n",
    "    \n",
    "#   Cycles through each row in the csv file (after the header) and adds months and value to the appropriate array\n",
    "    for row in csvreader:\n",
    "        voter_id.append(row[0])\n",
    "        \n",
    "# print(voter_id[:10])\n",
    "\n"
   ]
  },
  {
   "cell_type": "code",
   "execution_count": null,
   "id": "228af2a9",
   "metadata": {},
   "outputs": [],
   "source": []
  }
 ],
 "metadata": {
  "kernelspec": {
   "display_name": "Python 3",
   "language": "python",
   "name": "python3"
  },
  "language_info": {
   "codemirror_mode": {
    "name": "ipython",
    "version": 3
   },
   "file_extension": ".py",
   "mimetype": "text/x-python",
   "name": "python",
   "nbconvert_exporter": "python",
   "pygments_lexer": "ipython3",
   "version": "3.8.8"
  }
 },
 "nbformat": 4,
 "nbformat_minor": 5
}
