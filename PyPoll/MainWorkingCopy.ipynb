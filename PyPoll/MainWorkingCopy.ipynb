{
 "cells": [
  {
   "cell_type": "code",
   "execution_count": 73,
   "id": "b684ee27",
   "metadata": {},
   "outputs": [],
   "source": [
    "import os\n",
    "import csv\n",
    "\n",
    "csvpath = os.path.join('..', 'PyPoll', 'Resources', 'election_data.csv')\n",
    "# print(csvpath)\n",
    "\n",
    "# Creating empty array for each candidate\n",
    "candidates = []\n",
    "\n",
    "# Creating variable to hold number of votes cast for each candidate\n",
    "candidate0_votes = 0\n",
    "candidate1_votes = 0\n",
    "candidate2_votes = 0\n",
    "candidate3_votes = 0\n",
    "\n",
    "# Creating variable for total number of votes cast\n",
    "num_votes = 0"
   ]
  },
  {
   "cell_type": "code",
   "execution_count": 74,
   "id": "ca624f62",
   "metadata": {},
   "outputs": [
    {
     "name": "stdout",
     "output_type": "stream",
     "text": [
      "['Khan', 'Correy', 'Li', \"O'Tooley\"]\n"
     ]
    }
   ],
   "source": [
    "with open(csvpath) as csvfile:\n",
    "    csvreader = csv.reader(csvfile, delimiter=',')\n",
    "\n",
    "    csv_header = next(csvreader)\n",
    "    \n",
    "#   Cycles through each row in the csv file (after the header) and calculates total number of votes and array of candidates.\n",
    "    for row in csvreader:\n",
    "        num_votes += 1\n",
    "        \n",
    "        if row[2] not in candidates:\n",
    "            candidates.append(row[2])\n",
    "        \n",
    "        if row[2] == candidates[0]:\n",
    "            candidate0_votes += 1\n",
    "        \n",
    "        elif row[2] == candidates[1]:\n",
    "            candidate1_votes += 1\n",
    "        \n",
    "        elif row[2] == candidates[2]:\n",
    "            candidate2_votes += 1\n",
    "        \n",
    "        elif row[2] == candidates[3]:\n",
    "            candidate3_votes += 1"
   ]
  },
  {
   "cell_type": "code",
   "execution_count": 76,
   "id": "d24ab4d2",
   "metadata": {},
   "outputs": [],
   "source": [
    "# creating variable for percentage of vote cast for each candidate\n",
    "candidiate0_percent_vote = round(((candidate0_votes/num_votes)*100), 3)\n",
    "candidiate1_percent_vote = round(((candidate1_votes/num_votes)*100), 3)\n",
    "candidiate2_percent_vote = round(((candidate2_votes/num_votes)*100), 3)\n",
    "candidiate3_percent_vote = round(((candidate3_votes/num_votes)*100), 3)\n"
   ]
  },
  {
   "cell_type": "code",
   "execution_count": 78,
   "id": "b3a07521",
   "metadata": {},
   "outputs": [
    {
     "name": "stdout",
     "output_type": "stream",
     "text": [
      "Election Results\n",
      "-----------------------------\n",
      "Total Votes: 3521001\n",
      "-----------------------------\n",
      "Khan: 63.0% (2218231)\n",
      "Correy: 20.0% (704200)\n",
      "Li: 14.0% (492940)\n",
      "O'Tooley: 3.0% (105630)\n",
      "-----------------------------\n",
      "Winner: \n",
      "-----------------------------\n"
     ]
    }
   ],
   "source": [
    "print(f'Election Results')\n",
    "print(f'-----------------------------')\n",
    "print(f'Total Votes: {num_votes}')\n",
    "print(f'-----------------------------')\n",
    "print(f'{candidates[0]}: {candidiate0_percent_vote}% ({candidate0_votes})')\n",
    "print(f'{candidates[1]}: {candidiate1_percent_vote}% ({candidate1_votes})')\n",
    "print(f'{candidates[2]}: {candidiate2_percent_vote}% ({candidate2_votes})')\n",
    "print(f'{candidates[3]}: {candidiate3_percent_vote}% ({candidate3_votes})')\n",
    "print(f'-----------------------------')\n",
    "print(f'Winner: ')\n",
    "print(f'-----------------------------')"
   ]
  },
  {
   "cell_type": "code",
   "execution_count": null,
   "id": "54a574c6",
   "metadata": {},
   "outputs": [],
   "source": []
  }
 ],
 "metadata": {
  "kernelspec": {
   "display_name": "Python 3",
   "language": "python",
   "name": "python3"
  },
  "language_info": {
   "codemirror_mode": {
    "name": "ipython",
    "version": 3
   },
   "file_extension": ".py",
   "mimetype": "text/x-python",
   "name": "python",
   "nbconvert_exporter": "python",
   "pygments_lexer": "ipython3",
   "version": "3.8.8"
  }
 },
 "nbformat": 4,
 "nbformat_minor": 5
}
