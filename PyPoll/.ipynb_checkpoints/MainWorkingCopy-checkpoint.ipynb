{
 "cells": [
  {
   "cell_type": "code",
   "execution_count": 33,
   "id": "b684ee27",
   "metadata": {},
   "outputs": [],
   "source": [
    "import os\n",
    "import csv\n",
    "\n",
    "csvpath = os.path.join('..', 'PyPoll', 'Resources', 'election_data.csv')\n",
    "# print(csvpath)\n",
    "\n",
    "# Creating empty arrays for each voter id, county, and candidate\n",
    "voter_id = []\n",
    "counties = []\n",
    "candidates = []\n",
    "\n",
    "num_votes = 0"
   ]
  },
  {
   "cell_type": "code",
   "execution_count": 34,
   "id": "ca624f62",
   "metadata": {},
   "outputs": [
    {
     "name": "stdout",
     "output_type": "stream",
     "text": [
      "<_csv.reader object at 0x000001E4501C5280>\n",
      "['Voter ID', 'County', 'Candidate']\n",
      "['Khan', 'Correy', 'Li', \"O'Tooley\"]\n"
     ]
    }
   ],
   "source": [
    "with open(csvpath) as csvfile:\n",
    "    csvreader = csv.reader(csvfile, delimiter=',')\n",
    "    print(csvreader)\n",
    "\n",
    "    csv_header = next(csvreader)\n",
    "    print(csv_header)\n",
    "\n",
    "    \n",
    "#   Cycles through each row in the csv file (after the header) and adds months and value to the appropriate array\n",
    "    for row in csvreader:\n",
    "#         voter_id.append(row[0])\n",
    "        num_votes += 1\n",
    "        if row[2] not in candidates:\n",
    "            candidates.append(row[2])\n",
    "\n",
    "print(candidates)            "
   ]
  },
  {
   "cell_type": "code",
   "execution_count": null,
   "id": "452d504d",
   "metadata": {},
   "outputs": [],
   "source": []
  },
  {
   "cell_type": "code",
   "execution_count": null,
   "id": "bbb408ba",
   "metadata": {},
   "outputs": [],
   "source": []
  },
  {
   "cell_type": "code",
   "execution_count": 35,
   "id": "4cbd9b67",
   "metadata": {},
   "outputs": [
    {
     "name": "stdout",
     "output_type": "stream",
     "text": [
      "Election Results\n",
      "-----------------------------\n",
      "Total Votes: 3521001\n",
      "-----------------------------\n",
      "Khan: \n",
      "Correy: \n",
      "Li: \n",
      "O'Tooley: \n",
      "-----------------------------\n",
      "Winner: \n",
      "-----------------------------\n"
     ]
    }
   ],
   "source": [
    "print(f'Election Results')\n",
    "print(f'-----------------------------')\n",
    "print(f'Total Votes: {num_votes}')\n",
    "print(f'-----------------------------')\n",
    "print(f'{candidates[0]}: ')\n",
    "print(f'{candidates[1]}: ')\n",
    "print(f'{candidates[2]}: ')\n",
    "print(f'{candidates[3]}: ')\n",
    "print(f'-----------------------------')\n",
    "print(f'Winner: ')\n",
    "print(f'-----------------------------')"
   ]
  },
  {
   "cell_type": "code",
   "execution_count": null,
   "id": "a933feb6",
   "metadata": {},
   "outputs": [],
   "source": []
  }
 ],
 "metadata": {
  "kernelspec": {
   "display_name": "Python 3",
   "language": "python",
   "name": "python3"
  },
  "language_info": {
   "codemirror_mode": {
    "name": "ipython",
    "version": 3
   },
   "file_extension": ".py",
   "mimetype": "text/x-python",
   "name": "python",
   "nbconvert_exporter": "python",
   "pygments_lexer": "ipython3",
   "version": "3.8.8"
  }
 },
 "nbformat": 4,
 "nbformat_minor": 5
}
