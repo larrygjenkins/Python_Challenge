{
 "cells": [
  {
   "cell_type": "code",
   "execution_count": 79,
   "id": "b684ee27",
   "metadata": {},
   "outputs": [],
   "source": [
    "import os\n",
    "import csv\n",
    "\n",
    "csvpath = os.path.join('..', 'PyPoll', 'Resources', 'election_data.csv')\n",
    "# print(csvpath)\n",
    "\n",
    "# Creating empty array for each candidate and election winner\n",
    "candidates = []\n",
    "candidate_votes_received = []\n",
    "winner = []\n",
    "\n",
    "# Creating variable to hold number of votes cast for each candidate\n",
    "candidate0_votes = 0\n",
    "candidate1_votes = 0\n",
    "candidate2_votes = 0\n",
    "candidate3_votes = 0\n",
    "\n",
    "# Creating variable for total number of votes cast\n",
    "num_votes = 0"
   ]
  },
  {
   "cell_type": "code",
   "execution_count": 80,
   "id": "ca624f62",
   "metadata": {},
   "outputs": [],
   "source": [
    "with open(csvpath) as csvfile:\n",
    "    csvreader = csv.reader(csvfile, delimiter=',')\n",
    "\n",
    "    csv_header = next(csvreader)\n",
    "    \n",
    "#   Cycles through each row in the csv file (after the header) and calculates total number of votes and array of candidates.\n",
    "    for row in csvreader:\n",
    "        num_votes += 1\n",
    "        \n",
    "        if row[2] not in candidates:\n",
    "            candidates.append(row[2])\n",
    "        \n",
    "        if row[2] == candidates[0]:\n",
    "            candidate0_votes += 1\n",
    "        \n",
    "        elif row[2] == candidates[1]:\n",
    "            candidate1_votes += 1\n",
    "        \n",
    "        elif row[2] == candidates[2]:\n",
    "            candidate2_votes += 1\n",
    "        \n",
    "        elif row[2] == candidates[3]:\n",
    "            candidate3_votes += 1"
   ]
  },
  {
   "cell_type": "code",
   "execution_count": 81,
   "id": "00c5b6ac",
   "metadata": {},
   "outputs": [],
   "source": [
    "# creating variable for percentage of vote cast for each candidate\n",
    "candidiate0_percent_vote = round(((candidate0_votes/num_votes)*100), 3)\n",
    "candidiate1_percent_vote = round(((candidate1_votes/num_votes)*100), 3)\n",
    "candidiate2_percent_vote = round(((candidate2_votes/num_votes)*100), 3)\n",
    "candidiate3_percent_vote = round(((candidate3_votes/num_votes)*100), 3)\n"
   ]
  },
  {
   "cell_type": "code",
   "execution_count": 91,
   "id": "08ea11eb",
   "metadata": {},
   "outputs": [
    {
     "name": "stdout",
     "output_type": "stream",
     "text": [
      "2218231\n",
      "0\n",
      "['Khan']\n"
     ]
    }
   ],
   "source": [
    "# Takes candidates votes received and puts them in array that corresponds to their index in candidates list array\n",
    "candidate_votes_received.append(candidate0_votes)\n",
    "candidate_votes_received.append(candidate1_votes)\n",
    "candidate_votes_received.append(candidate2_votes)\n",
    "candidate_votes_received.append(candidate3_votes)\n",
    "\n",
    "# Finds the highest value in the candidate_votes_received array\n",
    "max_votes = (max(candidate_votes_received))\n",
    "print(max_votes)\n",
    "\n",
    "# Finds the index of the highest value in the candidate_votes_received array\n",
    "winner_index = candidate_votes_received.index(max_votes)\n",
    "print(candidate_votes_received.index(max_votes))\n",
    "\n",
    "# Using the index from the prevoius array, populates the winner array with the winning candidates name\n",
    "winner.append(candidates[winner_index])\n",
    "print(winner)"
   ]
  },
  {
   "cell_type": "code",
   "execution_count": 93,
   "id": "52304afe",
   "metadata": {},
   "outputs": [
    {
     "name": "stdout",
     "output_type": "stream",
     "text": [
      "Election Results\n",
      "-----------------------------\n",
      "Total Votes: 3521001\n",
      "-----------------------------\n",
      "Khan: 63.0% (2218231)\n",
      "Correy: 20.0% (704200)\n",
      "Li: 14.0% (492940)\n",
      "O'Tooley: 3.0% (105630)\n",
      "-----------------------------\n",
      "Winner: Khan\n",
      "-----------------------------\n"
     ]
    }
   ],
   "source": [
    "print(f'Election Results')\n",
    "print(f'-----------------------------')\n",
    "print(f'Total Votes: {num_votes}')\n",
    "print(f'-----------------------------')\n",
    "print(f'{candidates[0]}: {candidiate0_percent_vote}% ({candidate0_votes})')\n",
    "print(f'{candidates[1]}: {candidiate1_percent_vote}% ({candidate1_votes})')\n",
    "print(f'{candidates[2]}: {candidiate2_percent_vote}% ({candidate2_votes})')\n",
    "print(f'{candidates[3]}: {candidiate3_percent_vote}% ({candidate3_votes})')\n",
    "print(f'-----------------------------')\n",
    "print(f'Winner: {winner[0]}')\n",
    "print(f'-----------------------------')"
   ]
  },
  {
   "cell_type": "code",
   "execution_count": null,
   "id": "a2d0a2a5",
   "metadata": {},
   "outputs": [],
   "source": []
  }
 ],
 "metadata": {
  "kernelspec": {
   "display_name": "Python 3",
   "language": "python",
   "name": "python3"
  },
  "language_info": {
   "codemirror_mode": {
    "name": "ipython",
    "version": 3
   },
   "file_extension": ".py",
   "mimetype": "text/x-python",
   "name": "python",
   "nbconvert_exporter": "python",
   "pygments_lexer": "ipython3",
   "version": "3.8.8"
  }
 },
 "nbformat": 4,
 "nbformat_minor": 5
}
